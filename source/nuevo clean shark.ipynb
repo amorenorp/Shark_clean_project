{
 "cells": [
  {
   "cell_type": "code",
   "execution_count": 1,
   "metadata": {},
   "outputs": [],
   "source": [
    "import pandas as pd\n",
    "import numpy as np\n",
    "import datetime\n",
    "import re\n",
    "import matplotlib.pyplot as plot\n",
    "import warnings\n",
    "warnings.filterwarnings(\"ignore\")\n",
    "import seaborn as sns"
   ]
  },
  {
   "cell_type": "markdown",
   "metadata": {},
   "source": [
    "## Data Cleaning\n",
    "\n",
    "#### Importamos datos y echamos un vistazo "
   ]
  },
  {
   "cell_type": "code",
   "execution_count": 2,
   "metadata": {},
   "outputs": [
    {
     "data": {
      "text/html": [
       "<div>\n",
       "<style scoped>\n",
       "    .dataframe tbody tr th:only-of-type {\n",
       "        vertical-align: middle;\n",
       "    }\n",
       "\n",
       "    .dataframe tbody tr th {\n",
       "        vertical-align: top;\n",
       "    }\n",
       "\n",
       "    .dataframe thead th {\n",
       "        text-align: right;\n",
       "    }\n",
       "</style>\n",
       "<table border=\"1\" class=\"dataframe\">\n",
       "  <thead>\n",
       "    <tr style=\"text-align: right;\">\n",
       "      <th></th>\n",
       "      <th>Date</th>\n",
       "      <th>Year</th>\n",
       "      <th>Type</th>\n",
       "      <th>Country</th>\n",
       "      <th>Area</th>\n",
       "      <th>Location</th>\n",
       "      <th>Activity</th>\n",
       "      <th>Name</th>\n",
       "      <th>Sex</th>\n",
       "      <th>Age</th>\n",
       "      <th>...</th>\n",
       "      <th>Species</th>\n",
       "      <th>Investigator or Source</th>\n",
       "      <th>pdf</th>\n",
       "      <th>href formula</th>\n",
       "      <th>href</th>\n",
       "      <th>Case Number.1</th>\n",
       "      <th>Case Number.2</th>\n",
       "      <th>original order</th>\n",
       "      <th>Unnamed: 22</th>\n",
       "      <th>Unnamed: 23</th>\n",
       "    </tr>\n",
       "    <tr>\n",
       "      <th>Case Number</th>\n",
       "      <th></th>\n",
       "      <th></th>\n",
       "      <th></th>\n",
       "      <th></th>\n",
       "      <th></th>\n",
       "      <th></th>\n",
       "      <th></th>\n",
       "      <th></th>\n",
       "      <th></th>\n",
       "      <th></th>\n",
       "      <th></th>\n",
       "      <th></th>\n",
       "      <th></th>\n",
       "      <th></th>\n",
       "      <th></th>\n",
       "      <th></th>\n",
       "      <th></th>\n",
       "      <th></th>\n",
       "      <th></th>\n",
       "      <th></th>\n",
       "      <th></th>\n",
       "    </tr>\n",
       "  </thead>\n",
       "  <tbody>\n",
       "    <tr>\n",
       "      <th>2018.06.25</th>\n",
       "      <td>25-Jun-2018</td>\n",
       "      <td>2018.0</td>\n",
       "      <td>Boating</td>\n",
       "      <td>USA</td>\n",
       "      <td>California</td>\n",
       "      <td>Oceanside, San Diego County</td>\n",
       "      <td>Paddling</td>\n",
       "      <td>Julie Wolfe</td>\n",
       "      <td>F</td>\n",
       "      <td>57</td>\n",
       "      <td>...</td>\n",
       "      <td>White shark</td>\n",
       "      <td>R. Collier, GSAF</td>\n",
       "      <td>2018.06.25-Wolfe.pdf</td>\n",
       "      <td>http://sharkattackfile.net/spreadsheets/pdf_di...</td>\n",
       "      <td>http://sharkattackfile.net/spreadsheets/pdf_di...</td>\n",
       "      <td>2018.06.25</td>\n",
       "      <td>2018.06.25</td>\n",
       "      <td>6303.0</td>\n",
       "      <td>NaN</td>\n",
       "      <td>NaN</td>\n",
       "    </tr>\n",
       "    <tr>\n",
       "      <th>2018.06.18</th>\n",
       "      <td>18-Jun-2018</td>\n",
       "      <td>2018.0</td>\n",
       "      <td>Unprovoked</td>\n",
       "      <td>USA</td>\n",
       "      <td>Georgia</td>\n",
       "      <td>St. Simon Island, Glynn County</td>\n",
       "      <td>Standing</td>\n",
       "      <td>Adyson McNeely</td>\n",
       "      <td>F</td>\n",
       "      <td>11</td>\n",
       "      <td>...</td>\n",
       "      <td>NaN</td>\n",
       "      <td>K.McMurray, TrackingSharks.com</td>\n",
       "      <td>2018.06.18-McNeely.pdf</td>\n",
       "      <td>http://sharkattackfile.net/spreadsheets/pdf_di...</td>\n",
       "      <td>http://sharkattackfile.net/spreadsheets/pdf_di...</td>\n",
       "      <td>2018.06.18</td>\n",
       "      <td>2018.06.18</td>\n",
       "      <td>6302.0</td>\n",
       "      <td>NaN</td>\n",
       "      <td>NaN</td>\n",
       "    </tr>\n",
       "    <tr>\n",
       "      <th>2018.06.09</th>\n",
       "      <td>09-Jun-2018</td>\n",
       "      <td>2018.0</td>\n",
       "      <td>Invalid</td>\n",
       "      <td>USA</td>\n",
       "      <td>Hawaii</td>\n",
       "      <td>Habush, Oahu</td>\n",
       "      <td>Surfing</td>\n",
       "      <td>John Denges</td>\n",
       "      <td>M</td>\n",
       "      <td>48</td>\n",
       "      <td>...</td>\n",
       "      <td>NaN</td>\n",
       "      <td>K.McMurray, TrackingSharks.com</td>\n",
       "      <td>2018.06.09-Denges.pdf</td>\n",
       "      <td>http://sharkattackfile.net/spreadsheets/pdf_di...</td>\n",
       "      <td>http://sharkattackfile.net/spreadsheets/pdf_di...</td>\n",
       "      <td>2018.06.09</td>\n",
       "      <td>2018.06.09</td>\n",
       "      <td>6301.0</td>\n",
       "      <td>NaN</td>\n",
       "      <td>NaN</td>\n",
       "    </tr>\n",
       "    <tr>\n",
       "      <th>2018.06.08</th>\n",
       "      <td>08-Jun-2018</td>\n",
       "      <td>2018.0</td>\n",
       "      <td>Unprovoked</td>\n",
       "      <td>AUSTRALIA</td>\n",
       "      <td>New South Wales</td>\n",
       "      <td>Arrawarra Headland</td>\n",
       "      <td>Surfing</td>\n",
       "      <td>male</td>\n",
       "      <td>M</td>\n",
       "      <td>NaN</td>\n",
       "      <td>...</td>\n",
       "      <td>2 m shark</td>\n",
       "      <td>B. Myatt, GSAF</td>\n",
       "      <td>2018.06.08-Arrawarra.pdf</td>\n",
       "      <td>http://sharkattackfile.net/spreadsheets/pdf_di...</td>\n",
       "      <td>http://sharkattackfile.net/spreadsheets/pdf_di...</td>\n",
       "      <td>2018.06.08</td>\n",
       "      <td>2018.06.08</td>\n",
       "      <td>6300.0</td>\n",
       "      <td>NaN</td>\n",
       "      <td>NaN</td>\n",
       "    </tr>\n",
       "    <tr>\n",
       "      <th>2018.06.04</th>\n",
       "      <td>04-Jun-2018</td>\n",
       "      <td>2018.0</td>\n",
       "      <td>Provoked</td>\n",
       "      <td>MEXICO</td>\n",
       "      <td>Colima</td>\n",
       "      <td>La Ticla</td>\n",
       "      <td>Free diving</td>\n",
       "      <td>Gustavo Ramos</td>\n",
       "      <td>M</td>\n",
       "      <td>NaN</td>\n",
       "      <td>...</td>\n",
       "      <td>Tiger shark, 3m</td>\n",
       "      <td>A .Kipper</td>\n",
       "      <td>2018.06.04-Ramos.pdf</td>\n",
       "      <td>http://sharkattackfile.net/spreadsheets/pdf_di...</td>\n",
       "      <td>http://sharkattackfile.net/spreadsheets/pdf_di...</td>\n",
       "      <td>2018.06.04</td>\n",
       "      <td>2018.06.04</td>\n",
       "      <td>6299.0</td>\n",
       "      <td>NaN</td>\n",
       "      <td>NaN</td>\n",
       "    </tr>\n",
       "  </tbody>\n",
       "</table>\n",
       "<p>5 rows × 23 columns</p>\n",
       "</div>"
      ],
      "text/plain": [
       "                    Date    Year        Type    Country             Area  \\\n",
       "Case Number                                                                \n",
       "2018.06.25   25-Jun-2018  2018.0     Boating        USA       California   \n",
       "2018.06.18   18-Jun-2018  2018.0  Unprovoked        USA          Georgia   \n",
       "2018.06.09   09-Jun-2018  2018.0     Invalid        USA           Hawaii   \n",
       "2018.06.08   08-Jun-2018  2018.0  Unprovoked  AUSTRALIA  New South Wales   \n",
       "2018.06.04   04-Jun-2018  2018.0    Provoked     MEXICO           Colima   \n",
       "\n",
       "                                   Location     Activity             Name  \\\n",
       "Case Number                                                                 \n",
       "2018.06.25      Oceanside, San Diego County     Paddling      Julie Wolfe   \n",
       "2018.06.18   St. Simon Island, Glynn County     Standing  Adyson McNeely    \n",
       "2018.06.09                     Habush, Oahu      Surfing      John Denges   \n",
       "2018.06.08               Arrawarra Headland      Surfing             male   \n",
       "2018.06.04                         La Ticla  Free diving   Gustavo Ramos    \n",
       "\n",
       "            Sex   Age  ...         Species           Investigator or Source  \\\n",
       "Case Number            ...                                                    \n",
       "2018.06.25     F   57  ...      White shark                R. Collier, GSAF   \n",
       "2018.06.18     F   11  ...              NaN  K.McMurray, TrackingSharks.com   \n",
       "2018.06.09     M   48  ...              NaN  K.McMurray, TrackingSharks.com   \n",
       "2018.06.08     M  NaN  ...        2 m shark                  B. Myatt, GSAF   \n",
       "2018.06.04     M  NaN  ...  Tiger shark, 3m                       A .Kipper   \n",
       "\n",
       "                                  pdf  \\\n",
       "Case Number                             \n",
       "2018.06.25       2018.06.25-Wolfe.pdf   \n",
       "2018.06.18     2018.06.18-McNeely.pdf   \n",
       "2018.06.09      2018.06.09-Denges.pdf   \n",
       "2018.06.08   2018.06.08-Arrawarra.pdf   \n",
       "2018.06.04       2018.06.04-Ramos.pdf   \n",
       "\n",
       "                                                  href formula  \\\n",
       "Case Number                                                      \n",
       "2018.06.25   http://sharkattackfile.net/spreadsheets/pdf_di...   \n",
       "2018.06.18   http://sharkattackfile.net/spreadsheets/pdf_di...   \n",
       "2018.06.09   http://sharkattackfile.net/spreadsheets/pdf_di...   \n",
       "2018.06.08   http://sharkattackfile.net/spreadsheets/pdf_di...   \n",
       "2018.06.04   http://sharkattackfile.net/spreadsheets/pdf_di...   \n",
       "\n",
       "                                                          href Case Number.1  \\\n",
       "Case Number                                                                    \n",
       "2018.06.25   http://sharkattackfile.net/spreadsheets/pdf_di...    2018.06.25   \n",
       "2018.06.18   http://sharkattackfile.net/spreadsheets/pdf_di...    2018.06.18   \n",
       "2018.06.09   http://sharkattackfile.net/spreadsheets/pdf_di...    2018.06.09   \n",
       "2018.06.08   http://sharkattackfile.net/spreadsheets/pdf_di...    2018.06.08   \n",
       "2018.06.04   http://sharkattackfile.net/spreadsheets/pdf_di...    2018.06.04   \n",
       "\n",
       "            Case Number.2 original order Unnamed: 22 Unnamed: 23  \n",
       "Case Number                                                       \n",
       "2018.06.25     2018.06.25         6303.0         NaN         NaN  \n",
       "2018.06.18     2018.06.18         6302.0         NaN         NaN  \n",
       "2018.06.09     2018.06.09         6301.0         NaN         NaN  \n",
       "2018.06.08     2018.06.08         6300.0         NaN         NaN  \n",
       "2018.06.04     2018.06.04         6299.0         NaN         NaN  \n",
       "\n",
       "[5 rows x 23 columns]"
      ]
     },
     "execution_count": 2,
     "metadata": {},
     "output_type": "execute_result"
    }
   ],
   "source": [
    "shark = pd.read_csv(\"../data/attacks.csv\",index_col=0, encoding = \"iso-8859-1\")\n",
    "shark = pd.DataFrame(shark)\n",
    "\n",
    "shark.head()"
   ]
  },
  {
   "cell_type": "markdown",
   "metadata": {},
   "source": [
    "### Limpiar nombres de columna porque tienen espacios en blanco"
   ]
  },
  {
   "cell_type": "code",
   "execution_count": 3,
   "metadata": {},
   "outputs": [],
   "source": [
    "shark = shark.rename(columns=lambda x: x.strip())"
   ]
  },
  {
   "cell_type": "code",
   "execution_count": 4,
   "metadata": {},
   "outputs": [
    {
     "data": {
      "text/plain": [
       "Index(['Date', 'Year', 'Type', 'Country', 'Area', 'Location', 'Activity',\n",
       "       'Name', 'Sex', 'Age', 'Injury', 'Fatal (Y/N)', 'Time', 'Species',\n",
       "       'Investigator or Source', 'pdf', 'href formula', 'href',\n",
       "       'Case Number.1', 'Case Number.2', 'original order', 'Unnamed: 22',\n",
       "       'Unnamed: 23'],\n",
       "      dtype='object')"
      ]
     },
     "execution_count": 4,
     "metadata": {},
     "output_type": "execute_result"
    }
   ],
   "source": [
    "shark.columns"
   ]
  },
  {
   "cell_type": "markdown",
   "metadata": {},
   "source": [
    "### Vemos Nulos \n",
    "\n",
    "#### Observamos que la mayoria de casillas son nulas. Solo hay unas 6.000 filas con datos."
   ]
  },
  {
   "cell_type": "code",
   "execution_count": 5,
   "metadata": {},
   "outputs": [
    {
     "name": "stdout",
     "output_type": "stream",
     "text": [
      "<class 'pandas.core.frame.DataFrame'>\n",
      "Index: 25723 entries, 2018.06.25 to xx\n",
      "Data columns (total 23 columns):\n",
      " #   Column                  Non-Null Count  Dtype  \n",
      "---  ------                  --------------  -----  \n",
      " 0   Date                    6302 non-null   object \n",
      " 1   Year                    6300 non-null   float64\n",
      " 2   Type                    6298 non-null   object \n",
      " 3   Country                 6252 non-null   object \n",
      " 4   Area                    5847 non-null   object \n",
      " 5   Location                5762 non-null   object \n",
      " 6   Activity                5758 non-null   object \n",
      " 7   Name                    6092 non-null   object \n",
      " 8   Sex                     5737 non-null   object \n",
      " 9   Age                     3471 non-null   object \n",
      " 10  Injury                  6274 non-null   object \n",
      " 11  Fatal (Y/N)             5763 non-null   object \n",
      " 12  Time                    2948 non-null   object \n",
      " 13  Species                 3464 non-null   object \n",
      " 14  Investigator or Source  6285 non-null   object \n",
      " 15  pdf                     6302 non-null   object \n",
      " 16  href formula            6301 non-null   object \n",
      " 17  href                    6302 non-null   object \n",
      " 18  Case Number.1           6302 non-null   object \n",
      " 19  Case Number.2           6302 non-null   object \n",
      " 20  original order          6309 non-null   float64\n",
      " 21  Unnamed: 22             1 non-null      object \n",
      " 22  Unnamed: 23             2 non-null      object \n",
      "dtypes: float64(2), object(21)\n",
      "memory usage: 4.7+ MB\n"
     ]
    }
   ],
   "source": [
    "shark.info()"
   ]
  },
  {
   "cell_type": "code",
   "execution_count": 6,
   "metadata": {},
   "outputs": [
    {
     "data": {
      "text/plain": [
       "Date                      19421\n",
       "Year                      19423\n",
       "Type                      19425\n",
       "Country                   19471\n",
       "Area                      19876\n",
       "Location                  19961\n",
       "Activity                  19965\n",
       "Name                      19631\n",
       "Sex                       19986\n",
       "Age                       22252\n",
       "Injury                    19449\n",
       "Fatal (Y/N)               19960\n",
       "Time                      22775\n",
       "Species                   22259\n",
       "Investigator or Source    19438\n",
       "pdf                       19421\n",
       "href formula              19422\n",
       "href                      19421\n",
       "Case Number.1             19421\n",
       "Case Number.2             19421\n",
       "original order            19414\n",
       "Unnamed: 22               25722\n",
       "Unnamed: 23               25721\n",
       "dtype: int64"
      ]
     },
     "execution_count": 6,
     "metadata": {},
     "output_type": "execute_result"
    }
   ],
   "source": [
    "shark.isnull().sum()   "
   ]
  },
  {
   "cell_type": "markdown",
   "metadata": {},
   "source": [
    "### Reset del indice porque Case Number es ahora mismo el indice\n"
   ]
  },
  {
   "cell_type": "code",
   "execution_count": 7,
   "metadata": {},
   "outputs": [],
   "source": [
    "shark = shark.reset_index()\n",
    "\n",
    "#shark.head()"
   ]
  },
  {
   "cell_type": "markdown",
   "metadata": {},
   "source": [
    "### Eliminamos columnas que no vamos a utilizar."
   ]
  },
  {
   "cell_type": "code",
   "execution_count": 8,
   "metadata": {},
   "outputs": [
    {
     "data": {
      "text/plain": [
       "Index(['Case Number', 'Date', 'Year', 'Type', 'Country', 'Area', 'Location',\n",
       "       'Activity', 'Name', 'Sex', 'Age', 'Injury', 'Fatal (Y/N)', 'Time',\n",
       "       'Species', 'Investigator or Source', 'pdf', 'href formula', 'href',\n",
       "       'Case Number.1', 'Case Number.2', 'original order', 'Unnamed: 22',\n",
       "       'Unnamed: 23'],\n",
       "      dtype='object')"
      ]
     },
     "execution_count": 8,
     "metadata": {},
     "output_type": "execute_result"
    }
   ],
   "source": [
    "shark.columns"
   ]
  },
  {
   "cell_type": "markdown",
   "metadata": {},
   "source": [
    "##### Compruebo si la columna 'Case Number.1' y 'Case Number.2' comparten datos con 'Case Number'\n",
    "\n",
    "###### Son identicas excepto unos pocos valor, por lo que las elimino. "
   ]
  },
  {
   "cell_type": "code",
   "execution_count": 9,
   "metadata": {},
   "outputs": [
    {
     "data": {
      "text/plain": [
       "\"\\nshark['Case Number'].isin(shark['Case Number.1']).value_counts()\\nshark['Case Number.1'].isin(shark['Case Number.2']).value_counts()\\n\""
      ]
     },
     "execution_count": 9,
     "metadata": {},
     "output_type": "execute_result"
    }
   ],
   "source": [
    "\"\"\"\n",
    "shark['Case Number'].isin(shark['Case Number.1']).value_counts()\n",
    "shark['Case Number.1'].isin(shark['Case Number.2']).value_counts()\n",
    "\"\"\""
   ]
  },
  {
   "cell_type": "markdown",
   "metadata": {},
   "source": [
    "#### Me quedo con las siguientes columnas, que son las necesarias para demostras la hipotesis"
   ]
  },
  {
   "cell_type": "code",
   "execution_count": 10,
   "metadata": {},
   "outputs": [],
   "source": [
    "shark = shark[[\"Case Number\", \"Date\", \"Year\", \"Country\", \"Activity\", \"Sex\", \"Fatal (Y/N)\"]]"
   ]
  },
  {
   "cell_type": "code",
   "execution_count": 11,
   "metadata": {},
   "outputs": [
    {
     "data": {
      "text/html": [
       "<div>\n",
       "<style scoped>\n",
       "    .dataframe tbody tr th:only-of-type {\n",
       "        vertical-align: middle;\n",
       "    }\n",
       "\n",
       "    .dataframe tbody tr th {\n",
       "        vertical-align: top;\n",
       "    }\n",
       "\n",
       "    .dataframe thead th {\n",
       "        text-align: right;\n",
       "    }\n",
       "</style>\n",
       "<table border=\"1\" class=\"dataframe\">\n",
       "  <thead>\n",
       "    <tr style=\"text-align: right;\">\n",
       "      <th></th>\n",
       "      <th>Case Number</th>\n",
       "      <th>Date</th>\n",
       "      <th>Year</th>\n",
       "      <th>Country</th>\n",
       "      <th>Activity</th>\n",
       "      <th>Sex</th>\n",
       "      <th>Fatal (Y/N)</th>\n",
       "    </tr>\n",
       "  </thead>\n",
       "  <tbody>\n",
       "    <tr>\n",
       "      <th>0</th>\n",
       "      <td>2018.06.25</td>\n",
       "      <td>25-Jun-2018</td>\n",
       "      <td>2018.0</td>\n",
       "      <td>USA</td>\n",
       "      <td>Paddling</td>\n",
       "      <td>F</td>\n",
       "      <td>N</td>\n",
       "    </tr>\n",
       "    <tr>\n",
       "      <th>1</th>\n",
       "      <td>2018.06.18</td>\n",
       "      <td>18-Jun-2018</td>\n",
       "      <td>2018.0</td>\n",
       "      <td>USA</td>\n",
       "      <td>Standing</td>\n",
       "      <td>F</td>\n",
       "      <td>N</td>\n",
       "    </tr>\n",
       "    <tr>\n",
       "      <th>2</th>\n",
       "      <td>2018.06.09</td>\n",
       "      <td>09-Jun-2018</td>\n",
       "      <td>2018.0</td>\n",
       "      <td>USA</td>\n",
       "      <td>Surfing</td>\n",
       "      <td>M</td>\n",
       "      <td>N</td>\n",
       "    </tr>\n",
       "    <tr>\n",
       "      <th>3</th>\n",
       "      <td>2018.06.08</td>\n",
       "      <td>08-Jun-2018</td>\n",
       "      <td>2018.0</td>\n",
       "      <td>AUSTRALIA</td>\n",
       "      <td>Surfing</td>\n",
       "      <td>M</td>\n",
       "      <td>N</td>\n",
       "    </tr>\n",
       "    <tr>\n",
       "      <th>4</th>\n",
       "      <td>2018.06.04</td>\n",
       "      <td>04-Jun-2018</td>\n",
       "      <td>2018.0</td>\n",
       "      <td>MEXICO</td>\n",
       "      <td>Free diving</td>\n",
       "      <td>M</td>\n",
       "      <td>N</td>\n",
       "    </tr>\n",
       "  </tbody>\n",
       "</table>\n",
       "</div>"
      ],
      "text/plain": [
       "  Case Number         Date    Year    Country     Activity Sex Fatal (Y/N)\n",
       "0  2018.06.25  25-Jun-2018  2018.0        USA     Paddling   F           N\n",
       "1  2018.06.18  18-Jun-2018  2018.0        USA     Standing   F           N\n",
       "2  2018.06.09  09-Jun-2018  2018.0        USA      Surfing   M           N\n",
       "3  2018.06.08  08-Jun-2018  2018.0  AUSTRALIA      Surfing   M           N\n",
       "4  2018.06.04  04-Jun-2018  2018.0     MEXICO  Free diving   M           N"
      ]
     },
     "execution_count": 11,
     "metadata": {},
     "output_type": "execute_result"
    }
   ],
   "source": [
    "shark.head()"
   ]
  },
  {
   "cell_type": "markdown",
   "metadata": {},
   "source": [
    "#### Observamos que los nulos siguen siendo la mayoria, elimino aquellas filas que todos sus valor son NULL"
   ]
  },
  {
   "cell_type": "code",
   "execution_count": 12,
   "metadata": {},
   "outputs": [
    {
     "data": {
      "text/plain": [
       "Case Number    17021\n",
       "Date           19421\n",
       "Year           19423\n",
       "Country        19471\n",
       "Activity       19965\n",
       "Sex            19986\n",
       "Fatal (Y/N)    19960\n",
       "dtype: int64"
      ]
     },
     "execution_count": 12,
     "metadata": {},
     "output_type": "execute_result"
    }
   ],
   "source": [
    "shark.isnull().sum()  "
   ]
  },
  {
   "cell_type": "code",
   "execution_count": 13,
   "metadata": {},
   "outputs": [],
   "source": [
    "shark = shark.dropna(how = 'all')"
   ]
  },
  {
   "cell_type": "code",
   "execution_count": 14,
   "metadata": {},
   "outputs": [
    {
     "data": {
      "text/plain": [
       "Case Number       1\n",
       "Date           2401\n",
       "Year           2403\n",
       "Country        2451\n",
       "Activity       2945\n",
       "Sex            2966\n",
       "Fatal (Y/N)    2940\n",
       "dtype: int64"
      ]
     },
     "execution_count": 14,
     "metadata": {},
     "output_type": "execute_result"
    }
   ],
   "source": [
    "shark.isnull().sum()"
   ]
  },
  {
   "cell_type": "code",
   "execution_count": 15,
   "metadata": {},
   "outputs": [
    {
     "data": {
      "text/html": [
       "<div>\n",
       "<style scoped>\n",
       "    .dataframe tbody tr th:only-of-type {\n",
       "        vertical-align: middle;\n",
       "    }\n",
       "\n",
       "    .dataframe tbody tr th {\n",
       "        vertical-align: top;\n",
       "    }\n",
       "\n",
       "    .dataframe thead th {\n",
       "        text-align: right;\n",
       "    }\n",
       "</style>\n",
       "<table border=\"1\" class=\"dataframe\">\n",
       "  <thead>\n",
       "    <tr style=\"text-align: right;\">\n",
       "      <th></th>\n",
       "      <th>Case Number</th>\n",
       "      <th>Date</th>\n",
       "      <th>Year</th>\n",
       "      <th>Country</th>\n",
       "      <th>Activity</th>\n",
       "      <th>Sex</th>\n",
       "      <th>Fatal (Y/N)</th>\n",
       "    </tr>\n",
       "  </thead>\n",
       "  <tbody>\n",
       "    <tr>\n",
       "      <th>3760</th>\n",
       "      <td>1963.02.24</td>\n",
       "      <td>24-Feb-1963</td>\n",
       "      <td>1963.0</td>\n",
       "      <td>AUSTRALIA</td>\n",
       "      <td>Spearfishing</td>\n",
       "      <td>M</td>\n",
       "      <td>N</td>\n",
       "    </tr>\n",
       "    <tr>\n",
       "      <th>2643</th>\n",
       "      <td>1990.03.24</td>\n",
       "      <td>24-Mar-1990</td>\n",
       "      <td>1990.0</td>\n",
       "      <td>FIJI</td>\n",
       "      <td>Swimming</td>\n",
       "      <td>M</td>\n",
       "      <td>N</td>\n",
       "    </tr>\n",
       "    <tr>\n",
       "      <th>2088</th>\n",
       "      <td>1999.11.15</td>\n",
       "      <td>15-Nov-1999</td>\n",
       "      <td>1999.0</td>\n",
       "      <td>USA</td>\n",
       "      <td>Surfing (sitting on his board)</td>\n",
       "      <td>M</td>\n",
       "      <td>N</td>\n",
       "    </tr>\n",
       "    <tr>\n",
       "      <th>6127</th>\n",
       "      <td>1804.02.26.R</td>\n",
       "      <td>Reported 26-Feb-1804</td>\n",
       "      <td>1804.0</td>\n",
       "      <td>AUSTRALIA</td>\n",
       "      <td>NaN</td>\n",
       "      <td>NaN</td>\n",
       "      <td>N</td>\n",
       "    </tr>\n",
       "    <tr>\n",
       "      <th>2474</th>\n",
       "      <td>1993.09.14</td>\n",
       "      <td>14-Sep-1993</td>\n",
       "      <td>1993.0</td>\n",
       "      <td>USA</td>\n",
       "      <td>Wading</td>\n",
       "      <td>M</td>\n",
       "      <td>N</td>\n",
       "    </tr>\n",
       "    <tr>\n",
       "      <th>3088</th>\n",
       "      <td>1979.10.22</td>\n",
       "      <td>22-Oct-1979</td>\n",
       "      <td>1979.0</td>\n",
       "      <td>SOUTH AFRICA</td>\n",
       "      <td>Fishing</td>\n",
       "      <td>M</td>\n",
       "      <td>N</td>\n",
       "    </tr>\n",
       "    <tr>\n",
       "      <th>339</th>\n",
       "      <td>2015.10.28.a</td>\n",
       "      <td>28-Oct-2015</td>\n",
       "      <td>2015.0</td>\n",
       "      <td>USA</td>\n",
       "      <td>Body boarding</td>\n",
       "      <td>M</td>\n",
       "      <td>N</td>\n",
       "    </tr>\n",
       "    <tr>\n",
       "      <th>4244</th>\n",
       "      <td>1956.08.00.a</td>\n",
       "      <td>Aug-1956</td>\n",
       "      <td>1956.0</td>\n",
       "      <td>PAPUA NEW GUINEA</td>\n",
       "      <td>Fishing</td>\n",
       "      <td>M</td>\n",
       "      <td>N</td>\n",
       "    </tr>\n",
       "    <tr>\n",
       "      <th>2434</th>\n",
       "      <td>1994.05.31.a</td>\n",
       "      <td>31-May-1994</td>\n",
       "      <td>1994.0</td>\n",
       "      <td>USA</td>\n",
       "      <td>Surfing</td>\n",
       "      <td>M</td>\n",
       "      <td>N</td>\n",
       "    </tr>\n",
       "    <tr>\n",
       "      <th>7620</th>\n",
       "      <td>0</td>\n",
       "      <td>NaN</td>\n",
       "      <td>NaN</td>\n",
       "      <td>NaN</td>\n",
       "      <td>NaN</td>\n",
       "      <td>NaN</td>\n",
       "      <td>NaN</td>\n",
       "    </tr>\n",
       "  </tbody>\n",
       "</table>\n",
       "</div>"
      ],
      "text/plain": [
       "       Case Number                  Date    Year           Country  \\\n",
       "3760    1963.02.24           24-Feb-1963  1963.0         AUSTRALIA   \n",
       "2643    1990.03.24           24-Mar-1990  1990.0              FIJI   \n",
       "2088    1999.11.15           15-Nov-1999  1999.0               USA   \n",
       "6127  1804.02.26.R  Reported 26-Feb-1804  1804.0         AUSTRALIA   \n",
       "2474    1993.09.14           14-Sep-1993  1993.0               USA   \n",
       "3088    1979.10.22           22-Oct-1979  1979.0      SOUTH AFRICA   \n",
       "339   2015.10.28.a           28-Oct-2015  2015.0               USA   \n",
       "4244  1956.08.00.a              Aug-1956  1956.0  PAPUA NEW GUINEA   \n",
       "2434  1994.05.31.a           31-May-1994  1994.0               USA   \n",
       "7620             0                   NaN     NaN               NaN   \n",
       "\n",
       "                            Activity  Sex Fatal (Y/N)  \n",
       "3760                    Spearfishing    M           N  \n",
       "2643                        Swimming    M           N  \n",
       "2088  Surfing (sitting on his board)    M           N  \n",
       "6127                             NaN  NaN           N  \n",
       "2474                          Wading    M           N  \n",
       "3088                         Fishing    M           N  \n",
       "339                    Body boarding    M           N  \n",
       "4244                         Fishing    M           N  \n",
       "2434                         Surfing    M           N  \n",
       "7620                             NaN  NaN         NaN  "
      ]
     },
     "execution_count": 15,
     "metadata": {},
     "output_type": "execute_result"
    }
   ],
   "source": [
    "shark.sample(10)"
   ]
  },
  {
   "cell_type": "markdown",
   "metadata": {},
   "source": [
    "#### Vemos que hay filas que aun son NA excepto por el valor \"0\" de la columna Case Number.  Pasamos a eliminar esas filas"
   ]
  },
  {
   "cell_type": "code",
   "execution_count": 16,
   "metadata": {},
   "outputs": [],
   "source": [
    "shark.drop(shark[shark.Date.isnull()].index, inplace = True)"
   ]
  },
  {
   "cell_type": "code",
   "execution_count": 17,
   "metadata": {},
   "outputs": [
    {
     "data": {
      "text/plain": [
       "Case Number      1\n",
       "Date             0\n",
       "Year             2\n",
       "Country         50\n",
       "Activity       544\n",
       "Sex            565\n",
       "Fatal (Y/N)    539\n",
       "dtype: int64"
      ]
     },
     "execution_count": 17,
     "metadata": {},
     "output_type": "execute_result"
    }
   ],
   "source": [
    "shark.isnull().sum()"
   ]
  },
  {
   "cell_type": "markdown",
   "metadata": {},
   "source": [
    "### Creamos nueva columna Year obteniendo los datos de Case number"
   ]
  },
  {
   "cell_type": "code",
   "execution_count": 18,
   "metadata": {},
   "outputs": [],
   "source": [
    "shark['Year1']= shark['Case Number'].apply(lambda x : str(x).split(\".\")[0])"
   ]
  },
  {
   "cell_type": "code",
   "execution_count": 19,
   "metadata": {},
   "outputs": [
    {
     "data": {
      "text/plain": [
       "array(['2018', '2017', '2016', '2015', '2014', '2013', '2012', '2011',\n",
       "       '2010', '2009', '2008', '2007', '2006', '2005', '2004', '2003',\n",
       "       '2002', '2001', '2000', '1999', '1998', '1997', '1996', '1995',\n",
       "       '1984', '1994', '1993', '1992', '1991', '1990', '1989', '1988',\n",
       "       '1987', '1986', '1985', '1983', '1982', '1981', '1980', '1979',\n",
       "       '1978', '1977', '1976', '1975', '1974', '1973', '1972', '1971',\n",
       "       '1970', '1969', '1968', '1967', '1966', '1965', '1964', '1963',\n",
       "       '1962', '1962,08', '1961', '1960', '1959', '1958', '1957', '1956',\n",
       "       '1955', '1954', '1953', '1952', '1951', '1851', '1950', '1949',\n",
       "       '1948', '1947', '1946', '1945', '1944', '1943', '1942', '1941',\n",
       "       '1940', '1939', '1938', '1937', '1936', '1935', '1934', '1933',\n",
       "       '1932', '1931', '1930', '1929', '1928', '1927', '1926', '1925',\n",
       "       '1924', '1923', '1922', '1921', '1920', '1919', '1900', '1918',\n",
       "       '1917', '1916', '1915', '1914', '1913', '1912', '1911', '1910',\n",
       "       '1909', '1908', '1907', '1906', '1905', 'nan', '1904', '1903',\n",
       "       '1902', '1901', '1899', '1898', '1897', '1896', '1895', '1894',\n",
       "       '1893', '1892', '1891', '1890', '1889', '1888', '1887', '1886',\n",
       "       '1885', '1884', '1883', '1882', '1881', '1880', '1879', '1878',\n",
       "       '1877', '1876', '1875', '1874', '1873', '1872', '1871', '1870',\n",
       "       '1869', '1868', '1867', '1866', '1865', '1864', '1863', '1862',\n",
       "       '1861', '1860', '1859', '1858', '1857', '1856', '1855', '1853',\n",
       "       '1853,94', '1852', '1850', '1849', '1848', '1847', '1846', '1845',\n",
       "       '1844', '1842', '1841', '1840', '1839', '1837', '1836', '1835',\n",
       "       '1834', '1832', '1831', '1830', '1829', '1828', '1827', '1826',\n",
       "       '1825', '1823', '1822', '1819', '1818', '1817', '1816', '1815',\n",
       "       '1812', '1811', '1810', '1808', '1807', '1806', '1805', '1804',\n",
       "       '1803', '1802', '1801', '1800', '1797', '1792', '1791', '1788',\n",
       "       '1787', '1786', '1785', '1784', '1783', '1780', '1779', '1776',\n",
       "       '1771', '1767', '1764', '1758', '1753', '1751', '1749', '1755',\n",
       "       '1748', '1742', '1738', '1733', '1723', '1721', '1703', '1700',\n",
       "       '1642', '1638', '1637', '1617', '1595', '1580', '1555', '1554',\n",
       "       '1543', '0500', '0077', '0005', '0000', 'ND-0154', 'ND-0153',\n",
       "       'ND-0152', 'ND-0151', 'ND-0150', 'ND-0149', 'ND-0148', 'ND-1940',\n",
       "       'ND-0139', 'ND-0138', 'ND-0136', 'ND-0135', 'ND-0134', 'ND-0133',\n",
       "       'ND-0132', 'ND-0130', 'ND-0129', 'ND-0127', 'ND-0124', 'ND-0123',\n",
       "       'ND-0122', 'ND-0119', 'ND-0118', 'ND-0116', 'ND-0115', 'ND-0114',\n",
       "       'ND-0113', 'ND-0111', 'ND', 'ND-0109', 'ND-0108', 'ND-0107',\n",
       "       'ND-0106'], dtype=object)"
      ]
     },
     "execution_count": 19,
     "metadata": {},
     "output_type": "execute_result"
    }
   ],
   "source": [
    "shark.Year1.unique()"
   ]
  },
  {
   "cell_type": "code",
   "execution_count": 20,
   "metadata": {},
   "outputs": [],
   "source": [
    "\n",
    "shark.Year1 = shark.Year1.str.replace(r'.*ND.*' , \"NA\")\n",
    "shark.Year1 = shark.Year1.str.replace(r'.*nan.*' , \"NA\")\n",
    "shark.Year1 = shark.Year1.str.replace(r'.*NA.*' , \"NA\")"
   ]
  },
  {
   "cell_type": "code",
   "execution_count": 21,
   "metadata": {},
   "outputs": [
    {
     "data": {
      "text/plain": [
       "array(['2018', '2017', '2016', '2015', '2014', '2013', '2012', '2011',\n",
       "       '2010', '2009', '2008', '2007', '2006', '2005', '2004', '2003',\n",
       "       '2002', '2001', '2000', '1999', '1998', '1997', '1996', '1995',\n",
       "       '1984', '1994', '1993', '1992', '1991', '1990', '1989', '1988',\n",
       "       '1987', '1986', '1985', '1983', '1982', '1981', '1980', '1979',\n",
       "       '1978', '1977', '1976', '1975', '1974', '1973', '1972', '1971',\n",
       "       '1970', '1969', '1968', '1967', '1966', '1965', '1964', '1963',\n",
       "       '1962', '1962,08', '1961', '1960', '1959', '1958', '1957', '1956',\n",
       "       '1955', '1954', '1953', '1952', '1951', '1851', '1950', '1949',\n",
       "       '1948', '1947', '1946', '1945', '1944', '1943', '1942', '1941',\n",
       "       '1940', '1939', '1938', '1937', '1936', '1935', '1934', '1933',\n",
       "       '1932', '1931', '1930', '1929', '1928', '1927', '1926', '1925',\n",
       "       '1924', '1923', '1922', '1921', '1920', '1919', '1900', '1918',\n",
       "       '1917', '1916', '1915', '1914', '1913', '1912', '1911', '1910',\n",
       "       '1909', '1908', '1907', '1906', '1905', 'NA', '1904', '1903',\n",
       "       '1902', '1901', '1899', '1898', '1897', '1896', '1895', '1894',\n",
       "       '1893', '1892', '1891', '1890', '1889', '1888', '1887', '1886',\n",
       "       '1885', '1884', '1883', '1882', '1881', '1880', '1879', '1878',\n",
       "       '1877', '1876', '1875', '1874', '1873', '1872', '1871', '1870',\n",
       "       '1869', '1868', '1867', '1866', '1865', '1864', '1863', '1862',\n",
       "       '1861', '1860', '1859', '1858', '1857', '1856', '1855', '1853',\n",
       "       '1853,94', '1852', '1850', '1849', '1848', '1847', '1846', '1845',\n",
       "       '1844', '1842', '1841', '1840', '1839', '1837', '1836', '1835',\n",
       "       '1834', '1832', '1831', '1830', '1829', '1828', '1827', '1826',\n",
       "       '1825', '1823', '1822', '1819', '1818', '1817', '1816', '1815',\n",
       "       '1812', '1811', '1810', '1808', '1807', '1806', '1805', '1804',\n",
       "       '1803', '1802', '1801', '1800', '1797', '1792', '1791', '1788',\n",
       "       '1787', '1786', '1785', '1784', '1783', '1780', '1779', '1776',\n",
       "       '1771', '1767', '1764', '1758', '1753', '1751', '1749', '1755',\n",
       "       '1748', '1742', '1738', '1733', '1723', '1721', '1703', '1700',\n",
       "       '1642', '1638', '1637', '1617', '1595', '1580', '1555', '1554',\n",
       "       '1543', '0500', '0077', '0005', '0000'], dtype=object)"
      ]
     },
     "execution_count": 21,
     "metadata": {},
     "output_type": "execute_result"
    }
   ],
   "source": [
    "shark.Year1.unique()"
   ]
  },
  {
   "cell_type": "code",
   "execution_count": 22,
   "metadata": {
    "scrolled": true
   },
   "outputs": [
    {
     "data": {
      "text/html": [
       "<div>\n",
       "<style scoped>\n",
       "    .dataframe tbody tr th:only-of-type {\n",
       "        vertical-align: middle;\n",
       "    }\n",
       "\n",
       "    .dataframe tbody tr th {\n",
       "        vertical-align: top;\n",
       "    }\n",
       "\n",
       "    .dataframe thead th {\n",
       "        text-align: right;\n",
       "    }\n",
       "</style>\n",
       "<table border=\"1\" class=\"dataframe\">\n",
       "  <thead>\n",
       "    <tr style=\"text-align: right;\">\n",
       "      <th></th>\n",
       "      <th>Case Number</th>\n",
       "      <th>Date</th>\n",
       "      <th>Year</th>\n",
       "      <th>Country</th>\n",
       "      <th>Activity</th>\n",
       "      <th>Sex</th>\n",
       "      <th>Fatal (Y/N)</th>\n",
       "      <th>Year1</th>\n",
       "    </tr>\n",
       "  </thead>\n",
       "  <tbody>\n",
       "    <tr>\n",
       "      <th>0</th>\n",
       "      <td>2018.06.25</td>\n",
       "      <td>25-Jun-2018</td>\n",
       "      <td>2018.0</td>\n",
       "      <td>USA</td>\n",
       "      <td>Paddling</td>\n",
       "      <td>F</td>\n",
       "      <td>N</td>\n",
       "      <td>2018</td>\n",
       "    </tr>\n",
       "    <tr>\n",
       "      <th>1</th>\n",
       "      <td>2018.06.18</td>\n",
       "      <td>18-Jun-2018</td>\n",
       "      <td>2018.0</td>\n",
       "      <td>USA</td>\n",
       "      <td>Standing</td>\n",
       "      <td>F</td>\n",
       "      <td>N</td>\n",
       "      <td>2018</td>\n",
       "    </tr>\n",
       "    <tr>\n",
       "      <th>2</th>\n",
       "      <td>2018.06.09</td>\n",
       "      <td>09-Jun-2018</td>\n",
       "      <td>2018.0</td>\n",
       "      <td>USA</td>\n",
       "      <td>Surfing</td>\n",
       "      <td>M</td>\n",
       "      <td>N</td>\n",
       "      <td>2018</td>\n",
       "    </tr>\n",
       "    <tr>\n",
       "      <th>3</th>\n",
       "      <td>2018.06.08</td>\n",
       "      <td>08-Jun-2018</td>\n",
       "      <td>2018.0</td>\n",
       "      <td>AUSTRALIA</td>\n",
       "      <td>Surfing</td>\n",
       "      <td>M</td>\n",
       "      <td>N</td>\n",
       "      <td>2018</td>\n",
       "    </tr>\n",
       "    <tr>\n",
       "      <th>4</th>\n",
       "      <td>2018.06.04</td>\n",
       "      <td>04-Jun-2018</td>\n",
       "      <td>2018.0</td>\n",
       "      <td>MEXICO</td>\n",
       "      <td>Free diving</td>\n",
       "      <td>M</td>\n",
       "      <td>N</td>\n",
       "      <td>2018</td>\n",
       "    </tr>\n",
       "  </tbody>\n",
       "</table>\n",
       "</div>"
      ],
      "text/plain": [
       "  Case Number         Date    Year    Country     Activity Sex Fatal (Y/N)  \\\n",
       "0  2018.06.25  25-Jun-2018  2018.0        USA     Paddling   F           N   \n",
       "1  2018.06.18  18-Jun-2018  2018.0        USA     Standing   F           N   \n",
       "2  2018.06.09  09-Jun-2018  2018.0        USA      Surfing   M           N   \n",
       "3  2018.06.08  08-Jun-2018  2018.0  AUSTRALIA      Surfing   M           N   \n",
       "4  2018.06.04  04-Jun-2018  2018.0     MEXICO  Free diving   M           N   \n",
       "\n",
       "  Year1  \n",
       "0  2018  \n",
       "1  2018  \n",
       "2  2018  \n",
       "3  2018  \n",
       "4  2018  "
      ]
     },
     "execution_count": 22,
     "metadata": {},
     "output_type": "execute_result"
    }
   ],
   "source": [
    "shark.head()"
   ]
  },
  {
   "cell_type": "code",
   "execution_count": 23,
   "metadata": {},
   "outputs": [],
   "source": [
    "del shark['Year']"
   ]
  },
  {
   "cell_type": "code",
   "execution_count": 24,
   "metadata": {},
   "outputs": [],
   "source": [
    "shark.rename(columns = {'Fatal (Y/N)': \"Fatal\"}, inplace = True)\n",
    "shark.rename(columns = {'Year1': \"Year\"}, inplace = True)\n"
   ]
  },
  {
   "cell_type": "code",
   "execution_count": 25,
   "metadata": {},
   "outputs": [
    {
     "data": {
      "text/html": [
       "<div>\n",
       "<style scoped>\n",
       "    .dataframe tbody tr th:only-of-type {\n",
       "        vertical-align: middle;\n",
       "    }\n",
       "\n",
       "    .dataframe tbody tr th {\n",
       "        vertical-align: top;\n",
       "    }\n",
       "\n",
       "    .dataframe thead th {\n",
       "        text-align: right;\n",
       "    }\n",
       "</style>\n",
       "<table border=\"1\" class=\"dataframe\">\n",
       "  <thead>\n",
       "    <tr style=\"text-align: right;\">\n",
       "      <th></th>\n",
       "      <th>Year</th>\n",
       "      <th>Country</th>\n",
       "      <th>Activity</th>\n",
       "      <th>Sex</th>\n",
       "      <th>Fatal</th>\n",
       "    </tr>\n",
       "  </thead>\n",
       "  <tbody>\n",
       "    <tr>\n",
       "      <th>0</th>\n",
       "      <td>2018</td>\n",
       "      <td>USA</td>\n",
       "      <td>Paddling</td>\n",
       "      <td>F</td>\n",
       "      <td>N</td>\n",
       "    </tr>\n",
       "    <tr>\n",
       "      <th>1</th>\n",
       "      <td>2018</td>\n",
       "      <td>USA</td>\n",
       "      <td>Standing</td>\n",
       "      <td>F</td>\n",
       "      <td>N</td>\n",
       "    </tr>\n",
       "    <tr>\n",
       "      <th>2</th>\n",
       "      <td>2018</td>\n",
       "      <td>USA</td>\n",
       "      <td>Surfing</td>\n",
       "      <td>M</td>\n",
       "      <td>N</td>\n",
       "    </tr>\n",
       "    <tr>\n",
       "      <th>3</th>\n",
       "      <td>2018</td>\n",
       "      <td>AUSTRALIA</td>\n",
       "      <td>Surfing</td>\n",
       "      <td>M</td>\n",
       "      <td>N</td>\n",
       "    </tr>\n",
       "    <tr>\n",
       "      <th>4</th>\n",
       "      <td>2018</td>\n",
       "      <td>MEXICO</td>\n",
       "      <td>Free diving</td>\n",
       "      <td>M</td>\n",
       "      <td>N</td>\n",
       "    </tr>\n",
       "  </tbody>\n",
       "</table>\n",
       "</div>"
      ],
      "text/plain": [
       "   Year    Country     Activity Sex Fatal\n",
       "0  2018        USA     Paddling   F     N\n",
       "1  2018        USA     Standing   F     N\n",
       "2  2018        USA      Surfing   M     N\n",
       "3  2018  AUSTRALIA      Surfing   M     N\n",
       "4  2018     MEXICO  Free diving   M     N"
      ]
     },
     "execution_count": 25,
     "metadata": {},
     "output_type": "execute_result"
    }
   ],
   "source": [
    "shark = shark[[ \"Year\",\"Country\", \"Activity\", \"Sex\", \"Fatal\"]]\n",
    "shark.head()"
   ]
  },
  {
   "cell_type": "code",
   "execution_count": 26,
   "metadata": {},
   "outputs": [
    {
     "data": {
      "text/plain": [
       "<AxesSubplot:>"
      ]
     },
     "execution_count": 26,
     "metadata": {},
     "output_type": "execute_result"
    },
    {
     "data": {
      "image/png": "[encoded data removed]",
      "text/plain": [
       "<Figure size 432x288 with 1 Axes>"
      ]
     },
     "metadata": {
      "needs_background": "light"
     },
     "output_type": "display_data"
    }
   ],
   "source": [
    "\n",
    "#shark[\"dead\"]=shark[shark[\"Fatal\"].isin([\"Y\",\"N\"])][\"Fatal\"]\n",
    "\n",
    "shark[\"dead\"]=shark[\"Fatal\"].str.replace(\"N\",\"No\").str.replace(\"Y\",\"Yes\").dropna().astype(str)\n",
    "\n",
    "shark.dead.value_counts().plot(kind=\"barh\")"
   ]
  },
  {
   "cell_type": "code",
   "execution_count": 27,
   "metadata": {},
   "outputs": [],
   "source": [
    "shark[\"dead\"]=shark[\"dead\"].str.replace(\"No \",\"No\").str.replace(\"M\",\"NA\").str.replace(\"y\",\"Yes\").str.replace(\"2017\",\"NA\").str.replace(\" No\",\"No\").str.replace(\"UNoKNoOWNo\",\"NA\")"
   ]
  },
  {
   "cell_type": "code",
   "execution_count": 28,
   "metadata": {},
   "outputs": [
    {
     "data": {
      "text/plain": [
       "<AxesSubplot:>"
      ]
     },
     "execution_count": 28,
     "metadata": {},
     "output_type": "execute_result"
    },
    {
     "data": {
      "image/png": "[encoded data removed]",
      "text/plain": [
       "<Figure size 432x288 with 1 Axes>"
      ]
     },
     "metadata": {
      "needs_background": "light"
     },
     "output_type": "display_data"
    }
   ],
   "source": [
    "shark.dead.value_counts().plot(kind=\"barh\")"
   ]
  },
  {
   "cell_type": "code",
   "execution_count": null,
   "metadata": {},
   "outputs": [],
   "source": []
  },
  {
   "cell_type": "code",
   "execution_count": null,
   "metadata": {},
   "outputs": [],
   "source": []
  },
  {
   "cell_type": "markdown",
   "metadata": {},
   "source": [
    "### Limpiar paises"
   ]
  },
  {
   "cell_type": "code",
   "execution_count": 29,
   "metadata": {},
   "outputs": [],
   "source": [
    "shark[\"Country\"]=shark[\"Country\"].apply(lambda x: str(x).lower())"
   ]
  },
  {
   "cell_type": "code",
   "execution_count": 30,
   "metadata": {},
   "outputs": [
    {
     "data": {
      "text/plain": [
       "usa                   2229\n",
       "australia             1338\n",
       "south africa           579\n",
       "papua new guinea       134\n",
       "new zealand            128\n",
       "                      ... \n",
       "ceylon (sri lanka)       1\n",
       "falkland islands         1\n",
       "mid-pacifc ocean         1\n",
       "syria                    1\n",
       "sweden                   1\n",
       "Name: Country, Length: 210, dtype: int64"
      ]
     },
     "execution_count": 30,
     "metadata": {},
     "output_type": "execute_result"
    }
   ],
   "source": [
    "shark.Country.value_counts()"
   ]
  },
  {
   "cell_type": "code",
   "execution_count": 31,
   "metadata": {},
   "outputs": [],
   "source": [
    "shark.Country = shark.Country.str.replace(r'.*papua.*' , \"papua\")\n",
    "shark.Country = shark.Country.str.replace(r'new zealand', \"nz\")"
   ]
  },
  {
   "cell_type": "code",
   "execution_count": 32,
   "metadata": {},
   "outputs": [],
   "source": [
    "sharkusa = shark[(shark[\"Country\"]==\"usa\")]\n",
    "sharkaustralia = shark[(shark[\"Country\"]==\"australia\")]\n",
    "sharksouthafrica  = shark[(shark[\"Country\"]==\"south africa\")]\n",
    "sharkpapua = shark[(shark[\"Country\"]==\"papua\")]\n",
    "sharknewze = shark[(shark[\"Country\"]==\"nz\")]"
   ]
  },
  {
   "cell_type": "code",
   "execution_count": 33,
   "metadata": {},
   "outputs": [],
   "source": [
    "sharkfinal = pd.concat([sharkusa, sharkaustralia,sharksouthafrica,sharkpapua,sharknewze])"
   ]
  },
  {
   "cell_type": "code",
   "execution_count": 34,
   "metadata": {},
   "outputs": [
    {
     "data": {
      "text/plain": [
       "<AxesSubplot:>"
      ]
     },
     "execution_count": 34,
     "metadata": {},
     "output_type": "execute_result"
    },
    {
     "data": {
      "image/png": "[encoded data removed]",
      "text/plain": [
       "<Figure size 432x288 with 1 Axes>"
      ]
     },
     "metadata": {
      "needs_background": "light"
     },
     "output_type": "display_data"
    }
   ],
   "source": [
    "sharkfinal.Country.value_counts().plot(kind=\"barh\")"
   ]
  },
  {
   "cell_type": "code",
   "execution_count": null,
   "metadata": {},
   "outputs": [],
   "source": []
  },
  {
   "cell_type": "markdown",
   "metadata": {},
   "source": [
    "### Limpiar Sex"
   ]
  },
  {
   "cell_type": "code",
   "execution_count": 35,
   "metadata": {},
   "outputs": [
    {
     "data": {
      "text/plain": [
       "<AxesSubplot:>"
      ]
     },
     "execution_count": 35,
     "metadata": {},
     "output_type": "execute_result"
    },
    {
     "data": {
      "image/png": "[encoded data removed]",
      "text/plain": [
       "<Figure size 432x288 with 1 Axes>"
      ]
     },
     "metadata": {
      "needs_background": "light"
     },
     "output_type": "display_data"
    }
   ],
   "source": [
    "sharkfinal.Sex.value_counts().plot(kind=\"barh\")"
   ]
  },
  {
   "cell_type": "code",
   "execution_count": 36,
   "metadata": {},
   "outputs": [],
   "source": [
    "sharkfinal.Sex = sharkfinal.Sex.str.replace(\"N\", \"Unknown\")\n",
    "sharkfinal.Sex = sharkfinal.Sex.str.replace(\"lli\", \"Unknown\")\n",
    "sharkfinal.Sex = sharkfinal.Sex.str.replace(\"M \", \"M\")\n",
    "sharkfinal.Sex = sharkfinal.Sex.str.replace(\".\", \"Unknown\")"
   ]
  },
  {
   "cell_type": "code",
   "execution_count": 37,
   "metadata": {},
   "outputs": [
    {
     "data": {
      "text/plain": [
       "<AxesSubplot:>"
      ]
     },
     "execution_count": 37,
     "metadata": {},
     "output_type": "execute_result"
    },
    {
     "data": {
      "image/png": "[encoded data removed]",
      "text/plain": [
       "<Figure size 432x288 with 1 Axes>"
      ]
     },
     "metadata": {
      "needs_background": "light"
     },
     "output_type": "display_data"
    }
   ],
   "source": [
    "sharkfinal.Sex.value_counts().plot(kind=\"barh\")"
   ]
  },
  {
   "cell_type": "code",
   "execution_count": null,
   "metadata": {},
   "outputs": [],
   "source": []
  },
  {
   "cell_type": "markdown",
   "metadata": {},
   "source": [
    "### Limpiar Activity"
   ]
  },
  {
   "cell_type": "code",
   "execution_count": 38,
   "metadata": {},
   "outputs": [
    {
     "data": {
      "text/plain": [
       "Surfing                                                       868\n",
       "Swimming                                                      580\n",
       "Fishing                                                       301\n",
       "Spearfishing                                                  204\n",
       "Wading                                                        129\n",
       "                                                             ... \n",
       "Catching sardines                                               1\n",
       "Scuba diving, reportedly also spearfishing                      1\n",
       "Observing a shark feeding on a carcass of a humpback whale      1\n",
       "Standing in chest-deep water                                    1\n",
       "Dived naked into the water on a bet                             1\n",
       "Name: Activity, Length: 990, dtype: int64"
      ]
     },
     "execution_count": 38,
     "metadata": {},
     "output_type": "execute_result"
    }
   ],
   "source": [
    "sharkfinal.Activity.value_counts()"
   ]
  },
  {
   "cell_type": "code",
   "execution_count": 39,
   "metadata": {},
   "outputs": [],
   "source": [
    "\n",
    "sharkfinal.Activity = sharkfinal.Activity.str.replace(r'.*Swim.*' , \"swimming\")\n",
    "sharkfinal.Activity = sharkfinal.Activity.str.replace(r'.*Fish.*' , \"fishing\")\n",
    "sharkfinal.Activity = sharkfinal.Activity.str.replace(r'.*Wad.*' , \"fishing\")\n",
    "sharkfinal.Activity = sharkfinal.Activity.str.replace(r'.*Bath.*' , \"swimming\")\n",
    "sharkfinal.Activity = sharkfinal.Activity.str.replace(r'.*Surf.*' , \"surf\")\n",
    "\n",
    "sharkfinal.Activity = sharkfinal.Activity.str.replace(r'.*surf.*' , \"surf\")\n",
    "sharkfinal.Activity = sharkfinal.Activity.str.replace(r'.*swim.*' , \"swimming\")\n",
    "sharkfinal.Activity = sharkfinal.Activity.str.replace(r'.*fish.*' , \"fishing\")\n",
    "sharkfinal.Activity = sharkfinal.Activity.str.replace(r'.*wad.*' , \"fishing\")\n",
    "sharkfinal.Activity = sharkfinal.Activity.str.replace(r'.*bath.*' , \"swimming\")"
   ]
  },
  {
   "cell_type": "code",
   "execution_count": 40,
   "metadata": {},
   "outputs": [
    {
     "data": {
      "text/plain": [
       "surf                                                 1110\n",
       "fishing                                               937\n",
       "swimming                                              850\n",
       "Standing                                               85\n",
       "Diving                                                 66\n",
       "                                                     ... \n",
       "No details                                              1\n",
       "Vehicle plunged over cliff into the water               1\n",
       "Paddling a canoe                                        1\n",
       "Working on the bridge when he fell into the river       1\n",
       "Shrimping                                               1\n",
       "Name: Activity, Length: 527, dtype: int64"
      ]
     },
     "execution_count": 40,
     "metadata": {},
     "output_type": "execute_result"
    }
   ],
   "source": [
    "sharkfinal.Activity.value_counts()"
   ]
  },
  {
   "cell_type": "code",
   "execution_count": 41,
   "metadata": {},
   "outputs": [],
   "source": [
    "sharksurf = sharkfinal[(sharkfinal[\"Activity\"]==\"surf\")]\n",
    "sharkfish = sharkfinal[(sharkfinal[\"Activity\"]==\"fishing\")]\n",
    "sharkswim  = sharkfinal[(sharkfinal[\"Activity\"]==\"swimming\")]\n",
    "\n",
    "\n",
    "sharkfinal = pd.concat([sharksurf, sharkfish, sharkswim])"
   ]
  },
  {
   "cell_type": "code",
   "execution_count": 42,
   "metadata": {},
   "outputs": [
    {
     "data": {
      "text/plain": [
       "surf        1110\n",
       "fishing      937\n",
       "swimming     850\n",
       "Name: Activity, dtype: int64"
      ]
     },
     "execution_count": 42,
     "metadata": {},
     "output_type": "execute_result"
    }
   ],
   "source": [
    "sharkfinal.Activity.value_counts()"
   ]
  },
  {
   "cell_type": "markdown",
   "metadata": {},
   "source": [
    "#### Convertir los NA en Unknown"
   ]
  },
  {
   "cell_type": "code",
   "execution_count": 43,
   "metadata": {},
   "outputs": [
    {
     "data": {
      "text/plain": [
       "Year          0\n",
       "Country       0\n",
       "Activity      0\n",
       "Sex         161\n",
       "Fatal       194\n",
       "dead        194\n",
       "dtype: int64"
      ]
     },
     "execution_count": 43,
     "metadata": {},
     "output_type": "execute_result"
    }
   ],
   "source": [
    "sharkfinal.isnull().sum()"
   ]
  },
  {
   "cell_type": "code",
   "execution_count": 44,
   "metadata": {},
   "outputs": [],
   "source": [
    "sharkfinal['Sex'] = sharkfinal['Sex'].fillna(\"Unknown\")\n",
    "sharkfinal['Fatal'] = sharkfinal['Fatal'].fillna(\"Unknown\")\n",
    "sharkfinal['dead'] = sharkfinal['dead'].fillna(\"Unknown\")\n"
   ]
  },
  {
   "cell_type": "code",
   "execution_count": 45,
   "metadata": {},
   "outputs": [
    {
     "data": {
      "text/plain": [
       "Year        0\n",
       "Country     0\n",
       "Activity    0\n",
       "Sex         0\n",
       "Fatal       0\n",
       "dead        0\n",
       "dtype: int64"
      ]
     },
     "execution_count": 45,
     "metadata": {},
     "output_type": "execute_result"
    }
   ],
   "source": [
    "sharkfinal.isnull().sum()"
   ]
  },
  {
   "cell_type": "code",
   "execution_count": 46,
   "metadata": {},
   "outputs": [
    {
     "name": "stdout",
     "output_type": "stream",
     "text": [
      "<class 'pandas.core.frame.DataFrame'>\n",
      "Int64Index: 2897 entries, 2 to 6022\n",
      "Data columns (total 6 columns):\n",
      " #   Column    Non-Null Count  Dtype \n",
      "---  ------    --------------  ----- \n",
      " 0   Year      2897 non-null   object\n",
      " 1   Country   2897 non-null   object\n",
      " 2   Activity  2897 non-null   object\n",
      " 3   Sex       2897 non-null   object\n",
      " 4   Fatal     2897 non-null   object\n",
      " 5   dead      2897 non-null   object\n",
      "dtypes: object(6)\n",
      "memory usage: 158.4+ KB\n"
     ]
    }
   ],
   "source": [
    "sharkfinal.info()"
   ]
  },
  {
   "cell_type": "code",
   "execution_count": null,
   "metadata": {},
   "outputs": [],
   "source": []
  },
  {
   "cell_type": "code",
   "execution_count": null,
   "metadata": {},
   "outputs": [],
   "source": []
  },
  {
   "cell_type": "code",
   "execution_count": 47,
   "metadata": {},
   "outputs": [
    {
     "data": {
      "text/html": [
       "<div>\n",
       "<style scoped>\n",
       "    .dataframe tbody tr th:only-of-type {\n",
       "        vertical-align: middle;\n",
       "    }\n",
       "\n",
       "    .dataframe tbody tr th {\n",
       "        vertical-align: top;\n",
       "    }\n",
       "\n",
       "    .dataframe thead th {\n",
       "        text-align: right;\n",
       "    }\n",
       "</style>\n",
       "<table border=\"1\" class=\"dataframe\">\n",
       "  <thead>\n",
       "    <tr style=\"text-align: right;\">\n",
       "      <th></th>\n",
       "      <th>Year</th>\n",
       "      <th>Country</th>\n",
       "      <th>Activity</th>\n",
       "      <th>Sex</th>\n",
       "      <th>Fatal</th>\n",
       "      <th>dead</th>\n",
       "    </tr>\n",
       "  </thead>\n",
       "  <tbody>\n",
       "    <tr>\n",
       "      <th>2</th>\n",
       "      <td>2018</td>\n",
       "      <td>usa</td>\n",
       "      <td>surf</td>\n",
       "      <td>M</td>\n",
       "      <td>N</td>\n",
       "      <td>No</td>\n",
       "    </tr>\n",
       "    <tr>\n",
       "      <th>53</th>\n",
       "      <td>2017</td>\n",
       "      <td>usa</td>\n",
       "      <td>surf</td>\n",
       "      <td>F</td>\n",
       "      <td>N</td>\n",
       "      <td>No</td>\n",
       "    </tr>\n",
       "    <tr>\n",
       "      <th>54</th>\n",
       "      <td>2017</td>\n",
       "      <td>usa</td>\n",
       "      <td>surf</td>\n",
       "      <td>F</td>\n",
       "      <td>N</td>\n",
       "      <td>No</td>\n",
       "    </tr>\n",
       "    <tr>\n",
       "      <th>61</th>\n",
       "      <td>2017</td>\n",
       "      <td>usa</td>\n",
       "      <td>surf</td>\n",
       "      <td>F</td>\n",
       "      <td>N</td>\n",
       "      <td>No</td>\n",
       "    </tr>\n",
       "    <tr>\n",
       "      <th>69</th>\n",
       "      <td>2017</td>\n",
       "      <td>usa</td>\n",
       "      <td>surf</td>\n",
       "      <td>M</td>\n",
       "      <td>N</td>\n",
       "      <td>No</td>\n",
       "    </tr>\n",
       "  </tbody>\n",
       "</table>\n",
       "</div>"
      ],
      "text/plain": [
       "    Year Country Activity Sex Fatal dead\n",
       "2   2018     usa     surf   M     N   No\n",
       "53  2017     usa     surf   F     N   No\n",
       "54  2017     usa     surf   F     N   No\n",
       "61  2017     usa     surf   F     N   No\n",
       "69  2017     usa     surf   M     N   No"
      ]
     },
     "execution_count": 47,
     "metadata": {},
     "output_type": "execute_result"
    }
   ],
   "source": [
    "sharkfinal.head()"
   ]
  },
  {
   "cell_type": "code",
   "execution_count": 48,
   "metadata": {},
   "outputs": [],
   "source": [
    "sharkfinal = sharkfinal.reset_index()"
   ]
  },
  {
   "cell_type": "code",
   "execution_count": 49,
   "metadata": {},
   "outputs": [
    {
     "data": {
      "text/html": [
       "<div>\n",
       "<style scoped>\n",
       "    .dataframe tbody tr th:only-of-type {\n",
       "        vertical-align: middle;\n",
       "    }\n",
       "\n",
       "    .dataframe tbody tr th {\n",
       "        vertical-align: top;\n",
       "    }\n",
       "\n",
       "    .dataframe thead th {\n",
       "        text-align: right;\n",
       "    }\n",
       "</style>\n",
       "<table border=\"1\" class=\"dataframe\">\n",
       "  <thead>\n",
       "    <tr style=\"text-align: right;\">\n",
       "      <th></th>\n",
       "      <th>index</th>\n",
       "      <th>Year</th>\n",
       "      <th>Country</th>\n",
       "      <th>Activity</th>\n",
       "      <th>Sex</th>\n",
       "      <th>Fatal</th>\n",
       "      <th>dead</th>\n",
       "    </tr>\n",
       "  </thead>\n",
       "  <tbody>\n",
       "    <tr>\n",
       "      <th>0</th>\n",
       "      <td>2</td>\n",
       "      <td>2018</td>\n",
       "      <td>usa</td>\n",
       "      <td>surf</td>\n",
       "      <td>M</td>\n",
       "      <td>N</td>\n",
       "      <td>No</td>\n",
       "    </tr>\n",
       "    <tr>\n",
       "      <th>1</th>\n",
       "      <td>53</td>\n",
       "      <td>2017</td>\n",
       "      <td>usa</td>\n",
       "      <td>surf</td>\n",
       "      <td>F</td>\n",
       "      <td>N</td>\n",
       "      <td>No</td>\n",
       "    </tr>\n",
       "    <tr>\n",
       "      <th>2</th>\n",
       "      <td>54</td>\n",
       "      <td>2017</td>\n",
       "      <td>usa</td>\n",
       "      <td>surf</td>\n",
       "      <td>F</td>\n",
       "      <td>N</td>\n",
       "      <td>No</td>\n",
       "    </tr>\n",
       "    <tr>\n",
       "      <th>3</th>\n",
       "      <td>61</td>\n",
       "      <td>2017</td>\n",
       "      <td>usa</td>\n",
       "      <td>surf</td>\n",
       "      <td>F</td>\n",
       "      <td>N</td>\n",
       "      <td>No</td>\n",
       "    </tr>\n",
       "    <tr>\n",
       "      <th>4</th>\n",
       "      <td>69</td>\n",
       "      <td>2017</td>\n",
       "      <td>usa</td>\n",
       "      <td>surf</td>\n",
       "      <td>M</td>\n",
       "      <td>N</td>\n",
       "      <td>No</td>\n",
       "    </tr>\n",
       "    <tr>\n",
       "      <th>...</th>\n",
       "      <td>...</td>\n",
       "      <td>...</td>\n",
       "      <td>...</td>\n",
       "      <td>...</td>\n",
       "      <td>...</td>\n",
       "      <td>...</td>\n",
       "      <td>...</td>\n",
       "    </tr>\n",
       "    <tr>\n",
       "      <th>2892</th>\n",
       "      <td>5963</td>\n",
       "      <td>1862</td>\n",
       "      <td>nz</td>\n",
       "      <td>swimming</td>\n",
       "      <td>M</td>\n",
       "      <td>N</td>\n",
       "      <td>No</td>\n",
       "    </tr>\n",
       "    <tr>\n",
       "      <th>2893</th>\n",
       "      <td>5977</td>\n",
       "      <td>1861</td>\n",
       "      <td>nz</td>\n",
       "      <td>swimming</td>\n",
       "      <td>M</td>\n",
       "      <td>N</td>\n",
       "      <td>No</td>\n",
       "    </tr>\n",
       "    <tr>\n",
       "      <th>2894</th>\n",
       "      <td>5983</td>\n",
       "      <td>1860</td>\n",
       "      <td>nz</td>\n",
       "      <td>swimming</td>\n",
       "      <td>M</td>\n",
       "      <td>N</td>\n",
       "      <td>No</td>\n",
       "    </tr>\n",
       "    <tr>\n",
       "      <th>2895</th>\n",
       "      <td>5984</td>\n",
       "      <td>1860</td>\n",
       "      <td>nz</td>\n",
       "      <td>swimming</td>\n",
       "      <td>M</td>\n",
       "      <td>Y</td>\n",
       "      <td>Yes</td>\n",
       "    </tr>\n",
       "    <tr>\n",
       "      <th>2896</th>\n",
       "      <td>6022</td>\n",
       "      <td>1852</td>\n",
       "      <td>nz</td>\n",
       "      <td>swimming</td>\n",
       "      <td>M</td>\n",
       "      <td>Y</td>\n",
       "      <td>Yes</td>\n",
       "    </tr>\n",
       "  </tbody>\n",
       "</table>\n",
       "<p>2897 rows × 7 columns</p>\n",
       "</div>"
      ],
      "text/plain": [
       "      index  Year Country  Activity Sex Fatal dead\n",
       "0         2  2018     usa      surf   M     N   No\n",
       "1        53  2017     usa      surf   F     N   No\n",
       "2        54  2017     usa      surf   F     N   No\n",
       "3        61  2017     usa      surf   F     N   No\n",
       "4        69  2017     usa      surf   M     N   No\n",
       "...     ...   ...     ...       ...  ..   ...  ...\n",
       "2892   5963  1862      nz  swimming   M     N   No\n",
       "2893   5977  1861      nz  swimming   M     N   No\n",
       "2894   5983  1860      nz  swimming   M     N   No\n",
       "2895   5984  1860      nz  swimming   M     Y  Yes\n",
       "2896   6022  1852      nz  swimming   M     Y  Yes\n",
       "\n",
       "[2897 rows x 7 columns]"
      ]
     },
     "execution_count": 49,
     "metadata": {},
     "output_type": "execute_result"
    }
   ],
   "source": [
    "sharkfinal\n"
   ]
  },
  {
   "cell_type": "code",
   "execution_count": 50,
   "metadata": {},
   "outputs": [],
   "source": [
    "sharkfinal = sharkfinal[[ \"Year\",\"Country\", \"Activity\", \"Sex\", \"dead\"]]"
   ]
  },
  {
   "cell_type": "code",
   "execution_count": 51,
   "metadata": {},
   "outputs": [
    {
     "data": {
      "text/html": [
       "<div>\n",
       "<style scoped>\n",
       "    .dataframe tbody tr th:only-of-type {\n",
       "        vertical-align: middle;\n",
       "    }\n",
       "\n",
       "    .dataframe tbody tr th {\n",
       "        vertical-align: top;\n",
       "    }\n",
       "\n",
       "    .dataframe thead th {\n",
       "        text-align: right;\n",
       "    }\n",
       "</style>\n",
       "<table border=\"1\" class=\"dataframe\">\n",
       "  <thead>\n",
       "    <tr style=\"text-align: right;\">\n",
       "      <th></th>\n",
       "      <th>Year</th>\n",
       "      <th>Country</th>\n",
       "      <th>Activity</th>\n",
       "      <th>Sex</th>\n",
       "      <th>dead</th>\n",
       "    </tr>\n",
       "  </thead>\n",
       "  <tbody>\n",
       "    <tr>\n",
       "      <th>0</th>\n",
       "      <td>2018</td>\n",
       "      <td>usa</td>\n",
       "      <td>surf</td>\n",
       "      <td>M</td>\n",
       "      <td>No</td>\n",
       "    </tr>\n",
       "    <tr>\n",
       "      <th>1</th>\n",
       "      <td>2017</td>\n",
       "      <td>usa</td>\n",
       "      <td>surf</td>\n",
       "      <td>F</td>\n",
       "      <td>No</td>\n",
       "    </tr>\n",
       "    <tr>\n",
       "      <th>2</th>\n",
       "      <td>2017</td>\n",
       "      <td>usa</td>\n",
       "      <td>surf</td>\n",
       "      <td>F</td>\n",
       "      <td>No</td>\n",
       "    </tr>\n",
       "    <tr>\n",
       "      <th>3</th>\n",
       "      <td>2017</td>\n",
       "      <td>usa</td>\n",
       "      <td>surf</td>\n",
       "      <td>F</td>\n",
       "      <td>No</td>\n",
       "    </tr>\n",
       "    <tr>\n",
       "      <th>4</th>\n",
       "      <td>2017</td>\n",
       "      <td>usa</td>\n",
       "      <td>surf</td>\n",
       "      <td>M</td>\n",
       "      <td>No</td>\n",
       "    </tr>\n",
       "    <tr>\n",
       "      <th>...</th>\n",
       "      <td>...</td>\n",
       "      <td>...</td>\n",
       "      <td>...</td>\n",
       "      <td>...</td>\n",
       "      <td>...</td>\n",
       "    </tr>\n",
       "    <tr>\n",
       "      <th>2892</th>\n",
       "      <td>1862</td>\n",
       "      <td>nz</td>\n",
       "      <td>swimming</td>\n",
       "      <td>M</td>\n",
       "      <td>No</td>\n",
       "    </tr>\n",
       "    <tr>\n",
       "      <th>2893</th>\n",
       "      <td>1861</td>\n",
       "      <td>nz</td>\n",
       "      <td>swimming</td>\n",
       "      <td>M</td>\n",
       "      <td>No</td>\n",
       "    </tr>\n",
       "    <tr>\n",
       "      <th>2894</th>\n",
       "      <td>1860</td>\n",
       "      <td>nz</td>\n",
       "      <td>swimming</td>\n",
       "      <td>M</td>\n",
       "      <td>No</td>\n",
       "    </tr>\n",
       "    <tr>\n",
       "      <th>2895</th>\n",
       "      <td>1860</td>\n",
       "      <td>nz</td>\n",
       "      <td>swimming</td>\n",
       "      <td>M</td>\n",
       "      <td>Yes</td>\n",
       "    </tr>\n",
       "    <tr>\n",
       "      <th>2896</th>\n",
       "      <td>1852</td>\n",
       "      <td>nz</td>\n",
       "      <td>swimming</td>\n",
       "      <td>M</td>\n",
       "      <td>Yes</td>\n",
       "    </tr>\n",
       "  </tbody>\n",
       "</table>\n",
       "<p>2897 rows × 5 columns</p>\n",
       "</div>"
      ],
      "text/plain": [
       "      Year Country  Activity Sex dead\n",
       "0     2018     usa      surf   M   No\n",
       "1     2017     usa      surf   F   No\n",
       "2     2017     usa      surf   F   No\n",
       "3     2017     usa      surf   F   No\n",
       "4     2017     usa      surf   M   No\n",
       "...    ...     ...       ...  ..  ...\n",
       "2892  1862      nz  swimming   M   No\n",
       "2893  1861      nz  swimming   M   No\n",
       "2894  1860      nz  swimming   M   No\n",
       "2895  1860      nz  swimming   M  Yes\n",
       "2896  1852      nz  swimming   M  Yes\n",
       "\n",
       "[2897 rows x 5 columns]"
      ]
     },
     "execution_count": 51,
     "metadata": {},
     "output_type": "execute_result"
    }
   ],
   "source": [
    "sharkfinal"
   ]
  },
  {
   "cell_type": "code",
   "execution_count": 52,
   "metadata": {},
   "outputs": [],
   "source": [
    "sharkfinal.to_csv(\"../data/sharkfinallimpio.csv\")"
   ]
  },
  {
   "cell_type": "code",
   "execution_count": null,
   "metadata": {},
   "outputs": [],
   "source": [
    "\n"
   ]
  },
  {
   "cell_type": "code",
   "execution_count": null,
   "metadata": {},
   "outputs": [],
   "source": []
  },
  {
   "cell_type": "code",
   "execution_count": null,
   "metadata": {},
   "outputs": [],
   "source": []
  },
  {
   "cell_type": "code",
   "execution_count": null,
   "metadata": {},
   "outputs": [],
   "source": []
  },
  {
   "cell_type": "code",
   "execution_count": null,
   "metadata": {},
   "outputs": [],
   "source": []
  }
 ],
 "metadata": {
  "kernelspec": {
   "display_name": "Python 3",
   "language": "python",
   "name": "python3"
  },
  "language_info": {
   "codemirror_mode": {
    "name": "ipython",
    "version": 3
   },
   "file_extension": ".py",
   "mimetype": "text/x-python",
   "name": "python",
   "nbconvert_exporter": "python",
   "pygments_lexer": "ipython3",
   "version": "3.9.0"
  }
 },
 "nbformat": 4,
 "nbformat_minor": 4
}
